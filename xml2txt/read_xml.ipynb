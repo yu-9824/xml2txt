{
 "metadata": {
  "language_info": {
   "codemirror_mode": {
    "name": "ipython",
    "version": 3
   },
   "file_extension": ".py",
   "mimetype": "text/x-python",
   "name": "python",
   "nbconvert_exporter": "python",
   "pygments_lexer": "ipython3",
   "version": "3.7.6-final"
  },
  "orig_nbformat": 2,
  "kernelspec": {
   "name": "Python 3.7.6 64-bit ('PC': conda)",
   "display_name": "Python 3.7.6 64-bit ('PC': conda)",
   "metadata": {
    "interpreter": {
     "hash": "65a991b8be2a47c0a76e7b0983cd501323521e4bcba112649ba42520d2ca7304"
    }
   }
  }
 },
 "nbformat": 4,
 "nbformat_minor": 2,
 "cells": [
  {
   "cell_type": "code",
   "execution_count": 15,
   "metadata": {},
   "outputs": [],
   "source": [
    "from xml.etree.ElementTree import *\n",
    "import re"
   ]
  },
  {
   "cell_type": "code",
   "execution_count": 4,
   "metadata": {},
   "outputs": [],
   "source": [
    "file = 'example/PDF Card - 01-082-3446.xml'"
   ]
  },
  {
   "cell_type": "code",
   "execution_count": 63,
   "metadata": {},
   "outputs": [],
   "source": [
    "import matplotlib.pyplot as plt"
   ]
  },
  {
   "cell_type": "code",
   "execution_count": 83,
   "metadata": {
    "tags": []
   },
   "outputs": [
    {
     "output_type": "stream",
     "name": "stdout",
     "text": [
      "['322', '67', '352', '150', '534', '371', '11', '64', '309', '33', '321', '15', '97', '999', '18', '77', '4', '14', '100', '14', '2', '38', '115', '18', '113', '29', '14', '1', '97', '289', '101', '12', '11', '18', '15', '11', '8', '5', '60', '6', '2', '44', '321', '3', '3', '10m', 'm', '28', '1', '85m', 'm', '6', '49', '122', '55', '15', '35', '17', '4', '18', '5', '64', '13', '66m', 'm', '6', '1', '32', '55', '111', '4', '52', '1', '30', '37', '27', '77', '8m', 'm', '1', '8', '24m', 'm', '1', '11', '58', '12', '1', '15', '22', '10', '3m', 'm', '8', '2', '3', '7', '5m', 'm', '1', '8', '6m', 'm', '18m', 'm', '1', '17', '2', '31', '5', '26', '3', '16', '14m', 'm', '39', '4', '1', '3', '2', '1', '3', '3', '34m', 'm', '21', '7', '9m', 'm', '3', '3', '9m', 'm', '3', '2', '7', '4m', 'm', '1', '1', '6m', 'm', '22', '24', '11', '34m', 'm', '4', '7', '2', '3', '1', '1', '6m', 'm', '15', '7m', 'm', '1', '11', '1', '3', '3m', 'm', '8', '27m', 'm', '12', '11', '2', '2', '5', '12', '31m', 'm', '5m', 'm', '9m', 'm', '5', '6', '5', '2m', 'm', '1', '2', '2']\n"
     ]
    },
    {
     "output_type": "execute_result",
     "data": {
      "text/plain": [
       "(0.0, 1048.95)"
      ]
     },
     "metadata": {},
     "execution_count": 83
    },
    {
     "output_type": "display_data",
     "data": {
      "text/plain": "<Figure size 432x288 with 1 Axes>",
      "image/svg+xml": "<?xml version=\"1.0\" encoding=\"utf-8\" standalone=\"no\"?>\n<!DOCTYPE svg PUBLIC \"-//W3C//DTD SVG 1.1//EN\"\n  \"http://www.w3.org/Graphics/SVG/1.1/DTD/svg11.dtd\">\n<!-- Created with matplotlib (https://matplotlib.org/) -->\n<svg height=\"248.518125pt\" version=\"1.1\" viewBox=\"0 0 388.0125 248.518125\" width=\"388.0125pt\" xmlns=\"http://www.w3.org/2000/svg\" xmlns:xlink=\"http://www.w3.org/1999/xlink\">\n <metadata>\n  <rdf:RDF xmlns:cc=\"http://creativecommons.org/ns#\" xmlns:dc=\"http://purl.org/dc/elements/1.1/\" xmlns:rdf=\"http://www.w3.org/1999/02/22-rdf-syntax-ns#\">\n   <cc:Work>\n    <dc:type rdf:resource=\"http://purl.org/dc/dcmitype/StillImage\"/>\n    <dc:date>2020-10-22T21:56:31.878407</dc:date>\n    <dc:format>image/svg+xml</dc:format>\n    <dc:creator>\n     <cc:Agent>\n      <dc:title>Matplotlib v3.3.2, https://matplotlib.org/</dc:title>\n     </cc:Agent>\n    </dc:creator>\n   </cc:Work>\n  </rdf:RDF>\n </metadata>\n <defs>\n  <style type=\"text/css\">*{stroke-linecap:butt;stroke-linejoin:round;}</style>\n </defs>\n <g id=\"figure_1\">\n  <g id=\"patch_1\">\n   <path d=\"M -0 248.518125 \nL 388.0125 248.518125 \nL 388.0125 0 \nL -0 0 \nz\n\" style=\"fill:none;\"/>\n  </g>\n  <g id=\"axes_1\">\n   <g id=\"patch_2\">\n    <path d=\"M 39.65 224.64 \nL 374.45 224.64 \nL 374.45 7.2 \nL 39.65 7.2 \nz\n\" style=\"fill:#ffffff;\"/>\n   </g>\n   <g id=\"matplotlib.axis_1\">\n    <g id=\"xtick_1\">\n     <g id=\"line2d_1\">\n      <defs>\n       <path d=\"M 0 0 \nL 0 3.5 \n\" id=\"md2e7eddf10\" style=\"stroke:#000000;stroke-width:0.8;\"/>\n      </defs>\n      <g>\n       <use style=\"stroke:#000000;stroke-width:0.8;\" x=\"39.65\" xlink:href=\"#md2e7eddf10\" y=\"224.64\"/>\n      </g>\n     </g>\n     <g id=\"text_1\">\n      <!-- 10 -->\n      <g transform=\"translate(33.2875 239.238437)scale(0.1 -0.1)\">\n       <defs>\n        <path d=\"M 12.40625 8.296875 \nL 28.515625 8.296875 \nL 28.515625 63.921875 \nL 10.984375 60.40625 \nL 10.984375 69.390625 \nL 28.421875 72.90625 \nL 38.28125 72.90625 \nL 38.28125 8.296875 \nL 54.390625 8.296875 \nL 54.390625 0 \nL 12.40625 0 \nz\n\" id=\"DejaVuSans-49\"/>\n        <path d=\"M 31.78125 66.40625 \nQ 24.171875 66.40625 20.328125 58.90625 \nQ 16.5 51.421875 16.5 36.375 \nQ 16.5 21.390625 20.328125 13.890625 \nQ 24.171875 6.390625 31.78125 6.390625 \nQ 39.453125 6.390625 43.28125 13.890625 \nQ 47.125 21.390625 47.125 36.375 \nQ 47.125 51.421875 43.28125 58.90625 \nQ 39.453125 66.40625 31.78125 66.40625 \nz\nM 31.78125 74.21875 \nQ 44.046875 74.21875 50.515625 64.515625 \nQ 56.984375 54.828125 56.984375 36.375 \nQ 56.984375 17.96875 50.515625 8.265625 \nQ 44.046875 -1.421875 31.78125 -1.421875 \nQ 19.53125 -1.421875 13.0625 8.265625 \nQ 6.59375 17.96875 6.59375 36.375 \nQ 6.59375 54.828125 13.0625 64.515625 \nQ 19.53125 74.21875 31.78125 74.21875 \nz\n\" id=\"DejaVuSans-48\"/>\n       </defs>\n       <use xlink:href=\"#DejaVuSans-49\"/>\n       <use x=\"63.623047\" xlink:href=\"#DejaVuSans-48\"/>\n      </g>\n     </g>\n    </g>\n    <g id=\"xtick_2\">\n     <g id=\"line2d_2\">\n      <g>\n       <use style=\"stroke:#000000;stroke-width:0.8;\" x=\"106.61\" xlink:href=\"#md2e7eddf10\" y=\"224.64\"/>\n      </g>\n     </g>\n     <g id=\"text_2\">\n      <!-- 20 -->\n      <g transform=\"translate(100.2475 239.238437)scale(0.1 -0.1)\">\n       <defs>\n        <path d=\"M 19.1875 8.296875 \nL 53.609375 8.296875 \nL 53.609375 0 \nL 7.328125 0 \nL 7.328125 8.296875 \nQ 12.9375 14.109375 22.625 23.890625 \nQ 32.328125 33.6875 34.8125 36.53125 \nQ 39.546875 41.84375 41.421875 45.53125 \nQ 43.3125 49.21875 43.3125 52.78125 \nQ 43.3125 58.59375 39.234375 62.25 \nQ 35.15625 65.921875 28.609375 65.921875 \nQ 23.96875 65.921875 18.8125 64.3125 \nQ 13.671875 62.703125 7.8125 59.421875 \nL 7.8125 69.390625 \nQ 13.765625 71.78125 18.9375 73 \nQ 24.125 74.21875 28.421875 74.21875 \nQ 39.75 74.21875 46.484375 68.546875 \nQ 53.21875 62.890625 53.21875 53.421875 \nQ 53.21875 48.921875 51.53125 44.890625 \nQ 49.859375 40.875 45.40625 35.40625 \nQ 44.1875 33.984375 37.640625 27.21875 \nQ 31.109375 20.453125 19.1875 8.296875 \nz\n\" id=\"DejaVuSans-50\"/>\n       </defs>\n       <use xlink:href=\"#DejaVuSans-50\"/>\n       <use x=\"63.623047\" xlink:href=\"#DejaVuSans-48\"/>\n      </g>\n     </g>\n    </g>\n    <g id=\"xtick_3\">\n     <g id=\"line2d_3\">\n      <g>\n       <use style=\"stroke:#000000;stroke-width:0.8;\" x=\"173.57\" xlink:href=\"#md2e7eddf10\" y=\"224.64\"/>\n      </g>\n     </g>\n     <g id=\"text_3\">\n      <!-- 30 -->\n      <g transform=\"translate(167.2075 239.238437)scale(0.1 -0.1)\">\n       <defs>\n        <path d=\"M 40.578125 39.3125 \nQ 47.65625 37.796875 51.625 33 \nQ 55.609375 28.21875 55.609375 21.1875 \nQ 55.609375 10.40625 48.1875 4.484375 \nQ 40.765625 -1.421875 27.09375 -1.421875 \nQ 22.515625 -1.421875 17.65625 -0.515625 \nQ 12.796875 0.390625 7.625 2.203125 \nL 7.625 11.71875 \nQ 11.71875 9.328125 16.59375 8.109375 \nQ 21.484375 6.890625 26.8125 6.890625 \nQ 36.078125 6.890625 40.9375 10.546875 \nQ 45.796875 14.203125 45.796875 21.1875 \nQ 45.796875 27.640625 41.28125 31.265625 \nQ 36.765625 34.90625 28.71875 34.90625 \nL 20.21875 34.90625 \nL 20.21875 43.015625 \nL 29.109375 43.015625 \nQ 36.375 43.015625 40.234375 45.921875 \nQ 44.09375 48.828125 44.09375 54.296875 \nQ 44.09375 59.90625 40.109375 62.90625 \nQ 36.140625 65.921875 28.71875 65.921875 \nQ 24.65625 65.921875 20.015625 65.03125 \nQ 15.375 64.15625 9.8125 62.3125 \nL 9.8125 71.09375 \nQ 15.4375 72.65625 20.34375 73.4375 \nQ 25.25 74.21875 29.59375 74.21875 \nQ 40.828125 74.21875 47.359375 69.109375 \nQ 53.90625 64.015625 53.90625 55.328125 \nQ 53.90625 49.265625 50.4375 45.09375 \nQ 46.96875 40.921875 40.578125 39.3125 \nz\n\" id=\"DejaVuSans-51\"/>\n       </defs>\n       <use xlink:href=\"#DejaVuSans-51\"/>\n       <use x=\"63.623047\" xlink:href=\"#DejaVuSans-48\"/>\n      </g>\n     </g>\n    </g>\n    <g id=\"xtick_4\">\n     <g id=\"line2d_4\">\n      <g>\n       <use style=\"stroke:#000000;stroke-width:0.8;\" x=\"240.53\" xlink:href=\"#md2e7eddf10\" y=\"224.64\"/>\n      </g>\n     </g>\n     <g id=\"text_4\">\n      <!-- 40 -->\n      <g transform=\"translate(234.1675 239.238437)scale(0.1 -0.1)\">\n       <defs>\n        <path d=\"M 37.796875 64.3125 \nL 12.890625 25.390625 \nL 37.796875 25.390625 \nz\nM 35.203125 72.90625 \nL 47.609375 72.90625 \nL 47.609375 25.390625 \nL 58.015625 25.390625 \nL 58.015625 17.1875 \nL 47.609375 17.1875 \nL 47.609375 0 \nL 37.796875 0 \nL 37.796875 17.1875 \nL 4.890625 17.1875 \nL 4.890625 26.703125 \nz\n\" id=\"DejaVuSans-52\"/>\n       </defs>\n       <use xlink:href=\"#DejaVuSans-52\"/>\n       <use x=\"63.623047\" xlink:href=\"#DejaVuSans-48\"/>\n      </g>\n     </g>\n    </g>\n    <g id=\"xtick_5\">\n     <g id=\"line2d_5\">\n      <g>\n       <use style=\"stroke:#000000;stroke-width:0.8;\" x=\"307.49\" xlink:href=\"#md2e7eddf10\" y=\"224.64\"/>\n      </g>\n     </g>\n     <g id=\"text_5\">\n      <!-- 50 -->\n      <g transform=\"translate(301.1275 239.238437)scale(0.1 -0.1)\">\n       <defs>\n        <path d=\"M 10.796875 72.90625 \nL 49.515625 72.90625 \nL 49.515625 64.59375 \nL 19.828125 64.59375 \nL 19.828125 46.734375 \nQ 21.96875 47.46875 24.109375 47.828125 \nQ 26.265625 48.1875 28.421875 48.1875 \nQ 40.625 48.1875 47.75 41.5 \nQ 54.890625 34.8125 54.890625 23.390625 \nQ 54.890625 11.625 47.5625 5.09375 \nQ 40.234375 -1.421875 26.90625 -1.421875 \nQ 22.3125 -1.421875 17.546875 -0.640625 \nQ 12.796875 0.140625 7.71875 1.703125 \nL 7.71875 11.625 \nQ 12.109375 9.234375 16.796875 8.0625 \nQ 21.484375 6.890625 26.703125 6.890625 \nQ 35.15625 6.890625 40.078125 11.328125 \nQ 45.015625 15.765625 45.015625 23.390625 \nQ 45.015625 31 40.078125 35.4375 \nQ 35.15625 39.890625 26.703125 39.890625 \nQ 22.75 39.890625 18.8125 39.015625 \nQ 14.890625 38.140625 10.796875 36.28125 \nz\n\" id=\"DejaVuSans-53\"/>\n       </defs>\n       <use xlink:href=\"#DejaVuSans-53\"/>\n       <use x=\"63.623047\" xlink:href=\"#DejaVuSans-48\"/>\n      </g>\n     </g>\n    </g>\n    <g id=\"xtick_6\">\n     <g id=\"line2d_6\">\n      <g>\n       <use style=\"stroke:#000000;stroke-width:0.8;\" x=\"374.45\" xlink:href=\"#md2e7eddf10\" y=\"224.64\"/>\n      </g>\n     </g>\n     <g id=\"text_6\">\n      <!-- 60 -->\n      <g transform=\"translate(368.0875 239.238437)scale(0.1 -0.1)\">\n       <defs>\n        <path d=\"M 33.015625 40.375 \nQ 26.375 40.375 22.484375 35.828125 \nQ 18.609375 31.296875 18.609375 23.390625 \nQ 18.609375 15.53125 22.484375 10.953125 \nQ 26.375 6.390625 33.015625 6.390625 \nQ 39.65625 6.390625 43.53125 10.953125 \nQ 47.40625 15.53125 47.40625 23.390625 \nQ 47.40625 31.296875 43.53125 35.828125 \nQ 39.65625 40.375 33.015625 40.375 \nz\nM 52.59375 71.296875 \nL 52.59375 62.3125 \nQ 48.875 64.0625 45.09375 64.984375 \nQ 41.3125 65.921875 37.59375 65.921875 \nQ 27.828125 65.921875 22.671875 59.328125 \nQ 17.53125 52.734375 16.796875 39.40625 \nQ 19.671875 43.65625 24.015625 45.921875 \nQ 28.375 48.1875 33.59375 48.1875 \nQ 44.578125 48.1875 50.953125 41.515625 \nQ 57.328125 34.859375 57.328125 23.390625 \nQ 57.328125 12.15625 50.6875 5.359375 \nQ 44.046875 -1.421875 33.015625 -1.421875 \nQ 20.359375 -1.421875 13.671875 8.265625 \nQ 6.984375 17.96875 6.984375 36.375 \nQ 6.984375 53.65625 15.1875 63.9375 \nQ 23.390625 74.21875 37.203125 74.21875 \nQ 40.921875 74.21875 44.703125 73.484375 \nQ 48.484375 72.75 52.59375 71.296875 \nz\n\" id=\"DejaVuSans-54\"/>\n       </defs>\n       <use xlink:href=\"#DejaVuSans-54\"/>\n       <use x=\"63.623047\" xlink:href=\"#DejaVuSans-48\"/>\n      </g>\n     </g>\n    </g>\n   </g>\n   <g id=\"matplotlib.axis_2\">\n    <g id=\"ytick_1\">\n     <g id=\"line2d_7\">\n      <defs>\n       <path d=\"M 0 0 \nL -3.5 0 \n\" id=\"md315c07819\" style=\"stroke:#000000;stroke-width:0.8;\"/>\n      </defs>\n      <g>\n       <use style=\"stroke:#000000;stroke-width:0.8;\" x=\"39.65\" xlink:href=\"#md315c07819\" y=\"224.64\"/>\n      </g>\n     </g>\n     <g id=\"text_7\">\n      <!-- 0 -->\n      <g transform=\"translate(26.2875 228.439219)scale(0.1 -0.1)\">\n       <use xlink:href=\"#DejaVuSans-48\"/>\n      </g>\n     </g>\n    </g>\n    <g id=\"ytick_2\">\n     <g id=\"line2d_8\">\n      <g>\n       <use style=\"stroke:#000000;stroke-width:0.8;\" x=\"39.65\" xlink:href=\"#md315c07819\" y=\"183.181399\"/>\n      </g>\n     </g>\n     <g id=\"text_8\">\n      <!-- 200 -->\n      <g transform=\"translate(13.5625 186.980617)scale(0.1 -0.1)\">\n       <use xlink:href=\"#DejaVuSans-50\"/>\n       <use x=\"63.623047\" xlink:href=\"#DejaVuSans-48\"/>\n       <use x=\"127.246094\" xlink:href=\"#DejaVuSans-48\"/>\n      </g>\n     </g>\n    </g>\n    <g id=\"ytick_3\">\n     <g id=\"line2d_9\">\n      <g>\n       <use style=\"stroke:#000000;stroke-width:0.8;\" x=\"39.65\" xlink:href=\"#md315c07819\" y=\"141.722797\"/>\n      </g>\n     </g>\n     <g id=\"text_9\">\n      <!-- 400 -->\n      <g transform=\"translate(13.5625 145.522016)scale(0.1 -0.1)\">\n       <use xlink:href=\"#DejaVuSans-52\"/>\n       <use x=\"63.623047\" xlink:href=\"#DejaVuSans-48\"/>\n       <use x=\"127.246094\" xlink:href=\"#DejaVuSans-48\"/>\n      </g>\n     </g>\n    </g>\n    <g id=\"ytick_4\">\n     <g id=\"line2d_10\">\n      <g>\n       <use style=\"stroke:#000000;stroke-width:0.8;\" x=\"39.65\" xlink:href=\"#md315c07819\" y=\"100.264196\"/>\n      </g>\n     </g>\n     <g id=\"text_10\">\n      <!-- 600 -->\n      <g transform=\"translate(13.5625 104.063414)scale(0.1 -0.1)\">\n       <use xlink:href=\"#DejaVuSans-54\"/>\n       <use x=\"63.623047\" xlink:href=\"#DejaVuSans-48\"/>\n       <use x=\"127.246094\" xlink:href=\"#DejaVuSans-48\"/>\n      </g>\n     </g>\n    </g>\n    <g id=\"ytick_5\">\n     <g id=\"line2d_11\">\n      <g>\n       <use style=\"stroke:#000000;stroke-width:0.8;\" x=\"39.65\" xlink:href=\"#md315c07819\" y=\"58.805594\"/>\n      </g>\n     </g>\n     <g id=\"text_11\">\n      <!-- 800 -->\n      <g transform=\"translate(13.5625 62.604813)scale(0.1 -0.1)\">\n       <defs>\n        <path d=\"M 31.78125 34.625 \nQ 24.75 34.625 20.71875 30.859375 \nQ 16.703125 27.09375 16.703125 20.515625 \nQ 16.703125 13.921875 20.71875 10.15625 \nQ 24.75 6.390625 31.78125 6.390625 \nQ 38.8125 6.390625 42.859375 10.171875 \nQ 46.921875 13.96875 46.921875 20.515625 \nQ 46.921875 27.09375 42.890625 30.859375 \nQ 38.875 34.625 31.78125 34.625 \nz\nM 21.921875 38.8125 \nQ 15.578125 40.375 12.03125 44.71875 \nQ 8.5 49.078125 8.5 55.328125 \nQ 8.5 64.0625 14.71875 69.140625 \nQ 20.953125 74.21875 31.78125 74.21875 \nQ 42.671875 74.21875 48.875 69.140625 \nQ 55.078125 64.0625 55.078125 55.328125 \nQ 55.078125 49.078125 51.53125 44.71875 \nQ 48 40.375 41.703125 38.8125 \nQ 48.828125 37.15625 52.796875 32.3125 \nQ 56.78125 27.484375 56.78125 20.515625 \nQ 56.78125 9.90625 50.3125 4.234375 \nQ 43.84375 -1.421875 31.78125 -1.421875 \nQ 19.734375 -1.421875 13.25 4.234375 \nQ 6.78125 9.90625 6.78125 20.515625 \nQ 6.78125 27.484375 10.78125 32.3125 \nQ 14.796875 37.15625 21.921875 38.8125 \nz\nM 18.3125 54.390625 \nQ 18.3125 48.734375 21.84375 45.5625 \nQ 25.390625 42.390625 31.78125 42.390625 \nQ 38.140625 42.390625 41.71875 45.5625 \nQ 45.3125 48.734375 45.3125 54.390625 \nQ 45.3125 60.0625 41.71875 63.234375 \nQ 38.140625 66.40625 31.78125 66.40625 \nQ 25.390625 66.40625 21.84375 63.234375 \nQ 18.3125 60.0625 18.3125 54.390625 \nz\n\" id=\"DejaVuSans-56\"/>\n       </defs>\n       <use xlink:href=\"#DejaVuSans-56\"/>\n       <use x=\"63.623047\" xlink:href=\"#DejaVuSans-48\"/>\n       <use x=\"127.246094\" xlink:href=\"#DejaVuSans-48\"/>\n      </g>\n     </g>\n    </g>\n    <g id=\"ytick_6\">\n     <g id=\"line2d_12\">\n      <g>\n       <use style=\"stroke:#000000;stroke-width:0.8;\" x=\"39.65\" xlink:href=\"#md315c07819\" y=\"17.346993\"/>\n      </g>\n     </g>\n     <g id=\"text_12\">\n      <!-- 1000 -->\n      <g transform=\"translate(7.2 21.146211)scale(0.1 -0.1)\">\n       <use xlink:href=\"#DejaVuSans-49\"/>\n       <use x=\"63.623047\" xlink:href=\"#DejaVuSans-48\"/>\n       <use x=\"127.246094\" xlink:href=\"#DejaVuSans-48\"/>\n       <use x=\"190.869141\" xlink:href=\"#DejaVuSans-48\"/>\n      </g>\n     </g>\n    </g>\n   </g>\n   <g id=\"line2d_13\">\n    <path clip-path=\"url(#p90d6f13761)\" d=\"M 39.65 224.64 \nL 55.21887 224.64 \nL 55.219539 157.891652 \nL 55.220209 224.64 \nL 66.482211 224.64 \nL 66.482881 210.751369 \nL 66.48355 224.64 \nL 68.821124 224.64 \nL 68.821794 151.672861 \nL 68.822463 224.64 \nL 88.672755 224.64 \nL 88.673425 193.546049 \nL 88.674094 224.64 \nL 107.343882 224.64 \nL 107.344551 113.945534 \nL 107.345221 224.64 \nL 109.000472 224.64 \nL 109.001142 147.734294 \nL 109.001811 224.64 \nL 116.976078 224.64 \nL 116.976747 222.359777 \nL 116.977417 224.64 \nL 129.639553 224.64 \nL 129.640222 211.373248 \nL 129.640892 224.64 \nL 132.495397 224.64 \nL 132.496066 160.586461 \nL 132.496736 224.64 \nL 138.722677 224.64 \nL 138.723346 217.799331 \nL 138.724016 224.64 \nL 152.476261 224.64 \nL 152.47693 158.098945 \nL 152.4776 224.64 \nL 161.715402 224.64 \nL 161.716071 221.530605 \nL 161.716741 224.64 \nL 166.504381 224.64 \nL 166.50505 204.532578 \nL 166.50572 224.64 \nL 170.001032 224.64 \nL 170.001702 17.554286 \nL 170.002371 224.64 \nL 181.8563 224.64 \nL 181.85697 220.908726 \nL 181.857639 224.64 \nL 184.055936 224.64 \nL 184.056606 208.678438 \nL 184.057275 224.64 \nL 188.906518 224.64 \nL 188.907188 223.810828 \nL 188.907858 224.64 \nL 189.976539 224.64 \nL 189.977209 221.737898 \nL 189.977878 224.64 \nL 195.235578 224.64 \nL 195.236247 203.910699 \nL 195.236917 224.64 \nL 199.873897 224.64 \nL 199.874566 221.737898 \nL 199.875236 224.64 \nL 207.416941 224.64 \nL 207.41761 224.225414 \nL 207.41828 224.64 \nL 210.393982 224.64 \nL 210.394652 216.762866 \nL 210.395322 224.64 \nL 217.653116 224.64 \nL 217.653786 200.801304 \nL 217.654455 224.64 \nL 220.501594 224.64 \nL 220.502264 220.908726 \nL 220.502934 224.64 \nL 224.284165 224.64 \nL 224.284834 201.21589 \nL 224.285504 224.64 \nL 226.158375 224.64 \nL 226.159045 218.628503 \nL 226.159714 224.64 \nL 233.95118 224.64 \nL 233.95185 221.737898 \nL 233.952519 224.64 \nL 239.792101 224.64 \nL 239.79277 224.432707 \nL 239.79344 224.64 \nL 246.384982 224.64 \nL 246.385652 204.532578 \nL 246.386322 224.64 \nL 249.869581 224.64 \nL 249.87025 164.732321 \nL 249.87092 224.64 \nL 255.417886 224.64 \nL 255.418556 203.703406 \nL 255.419226 224.64 \nL 257.946966 224.64 \nL 257.947635 222.152484 \nL 257.948305 224.64 \nL 260.038126 224.64 \nL 260.038796 222.359777 \nL 260.039466 224.64 \nL 261.317062 224.64 \nL 261.317732 220.908726 \nL 261.318402 224.64 \nL 262.990393 224.64 \nL 262.991062 221.530605 \nL 262.991732 224.64 \nL 264.221118 224.64 \nL 264.221787 222.359777 \nL 264.222457 224.64 \nL 266.708012 224.64 \nL 266.708682 222.981656 \nL 266.709351 224.64 \nL 268.730874 224.64 \nL 268.731543 223.603535 \nL 268.732213 224.64 \nL 275.247421 224.64 \nL 275.24809 212.20242 \nL 275.24876 224.64 \nL 277.226089 224.64 \nL 277.226758 223.396242 \nL 277.227428 224.64 \nL 283.603359 224.64 \nL 283.604029 224.225414 \nL 283.604698 224.64 \nL 286.736418 224.64 \nL 286.737087 215.519108 \nL 286.737757 224.64 \nL 289.454994 224.64 \nL 289.455663 158.098945 \nL 289.456333 224.64 \nL 293.687535 224.64 \nL 293.688205 224.018121 \nL 293.688874 224.64 \nL 294.859335 224.64 \nL 294.860005 224.018121 \nL 294.860674 224.64 \nL 301.68055 224.64 \nL 301.68122 218.835796 \nL 301.68189 224.64 \nL 313.241194 224.64 \nL 313.241864 224.432707 \nL 313.242534 224.64 \nL 320.902758 224.64 \nL 320.903427 223.396242 \nL 320.904097 224.64 \nL 323.064226 224.64 \nL 323.064896 214.482643 \nL 323.065566 224.64 \nL 324.853398 224.64 \nL 324.854067 199.350253 \nL 324.854737 224.64 \nL 327.389173 224.64 \nL 327.389842 213.238885 \nL 327.390512 224.64 \nL 328.44848 224.64 \nL 328.44915 221.530605 \nL 328.449819 224.64 \nL 331.304994 224.64 \nL 331.305663 217.384745 \nL 331.306333 224.64 \nL 332.340865 224.64 \nL 332.341534 221.116019 \nL 332.342204 224.64 \nL 334.838473 224.64 \nL 334.839142 223.810828 \nL 334.839812 224.64 \nL 337.996976 224.64 \nL 337.997646 220.908726 \nL 337.998315 224.64 \nL 339.721866 224.64 \nL 339.722535 223.603535 \nL 339.723205 224.64 \nL 341.105929 224.64 \nL 341.106598 211.373248 \nL 341.107268 224.64 \nL 343.215169 224.64 \nL 343.215838 221.945191 \nL 343.216508 224.64 \nL 348.367741 224.64 \nL 348.36841 223.396242 \nL 348.36908 224.64 \nL 352.496494 224.64 \nL 352.497164 224.432707 \nL 352.497834 224.64 \nL 355.229132 224.64 \nL 355.229802 218.006624 \nL 355.230471 224.64 \nL 356.593107 224.64 \nL 356.593777 213.238885 \nL 356.594446 224.64 \nL 361.29303 224.64 \nL 361.293699 201.630476 \nL 361.294369 224.64 \nL 363.623238 224.64 \nL 363.623907 223.810828 \nL 363.624577 224.64 \nL 366.671926 224.64 \nL 366.672596 213.860764 \nL 366.673266 224.64 \nL 370.617879 224.64 \nL 370.618549 224.432707 \nL 370.619218 224.64 \nL 374.296662 224.64 \nL 374.297331 218.42121 \nL 374.298001 224.64 \nL 374.45 224.64 \nL 374.45 224.64 \n\" style=\"fill:none;stroke:#1f77b4;stroke-linecap:square;stroke-width:1.5;\"/>\n   </g>\n   <g id=\"patch_3\">\n    <path d=\"M 39.65 224.64 \nL 39.65 7.2 \n\" style=\"fill:none;stroke:#000000;stroke-linecap:square;stroke-linejoin:miter;stroke-width:0.8;\"/>\n   </g>\n   <g id=\"patch_4\">\n    <path d=\"M 374.45 224.64 \nL 374.45 7.2 \n\" style=\"fill:none;stroke:#000000;stroke-linecap:square;stroke-linejoin:miter;stroke-width:0.8;\"/>\n   </g>\n   <g id=\"patch_5\">\n    <path d=\"M 39.65 224.64 \nL 374.45 224.64 \n\" style=\"fill:none;stroke:#000000;stroke-linecap:square;stroke-linejoin:miter;stroke-width:0.8;\"/>\n   </g>\n   <g id=\"patch_6\">\n    <path d=\"M 39.65 7.2 \nL 374.45 7.2 \n\" style=\"fill:none;stroke:#000000;stroke-linecap:square;stroke-linejoin:miter;stroke-width:0.8;\"/>\n   </g>\n  </g>\n </g>\n <defs>\n  <clipPath id=\"p90d6f13761\">\n   <rect height=\"217.44\" width=\"334.8\" x=\"39.65\" y=\"7.2\"/>\n  </clipPath>\n </defs>\n</svg>\n",
      "image/png": "[encoded data removed]"
     },
     "metadata": {
      "needs_background": "light"
     }
    }
   ],
   "source": [
    "with open(file, mode = 'r') as f:\n",
    "    content = f.read()#.replace('\\n', '')\n",
    "intensity = content[content.find('<stick_series'):content.find('</stick_series')]\n",
    "print(re.findall('<intensity>(.*)</intensity>', intensity))\n",
    "\n",
    "milli = 1 * 10 ** -3\n",
    "def convert(s):\n",
    "    if s == 'm':\n",
    "        return milli\n",
    "    elif 'm' in s:\n",
    "        return int(s.replace('m', '')) * milli\n",
    "    else:\n",
    "        return int(s)\n",
    "intensities = map(convert, re.findall('<intensity>(.*)</intensity>', intensity))\n",
    "thetas = map(float, re.findall('<theta>(.*)</theta>', intensity))\n",
    "diff = dict(zip(thetas, intensities))\n",
    "\n",
    "\n",
    "start = 10\n",
    "end = 60\n",
    "\n",
    "thres = 0.0001\n",
    "forgraph = [[start], [0]]\n",
    "for k, theta in enumerate(diff):\n",
    "    if theta < start:\n",
    "        continue\n",
    "    elif theta < end:\n",
    "        forgraph[0].append(theta-thres)\n",
    "        forgraph[1].append(0)\n",
    "        forgraph[0].append(theta)\n",
    "        forgraph[1].append(diff[theta])\n",
    "        forgraph[0].append(theta+thres)\n",
    "        forgraph[1].append(0)\n",
    "    else:\n",
    "        forgraph[0].append(end)\n",
    "        forgraph[1].append(0)\n",
    "        break\n",
    "fig = plt.figure()\n",
    "ax = fig.add_subplot(111)\n",
    "ax.plot(*forgraph)\n",
    "ax.set_xlim(start, end)\n",
    "ax.set_ylim(0, None)"
   ]
  },
  {
   "cell_type": "code",
   "execution_count": 87,
   "metadata": {},
   "outputs": [
    {
     "output_type": "execute_result",
     "data": {
      "text/plain": [
       "       theta  intensity\n",
       "0    10.0000        0.0\n",
       "1    12.3251        0.0\n",
       "2    12.3252      322.0\n",
       "3    12.3253        0.0\n",
       "4    14.0072        0.0\n",
       "..       ...        ...\n",
       "210  59.4279        0.0\n",
       "211  59.9771        0.0\n",
       "212  59.9772       30.0\n",
       "213  59.9773        0.0\n",
       "214  60.0000        0.0\n",
       "\n",
       "[215 rows x 2 columns]"
      ],
      "text/html": "<div>\n<style scoped>\n    .dataframe tbody tr th:only-of-type {\n        vertical-align: middle;\n    }\n\n    .dataframe tbody tr th {\n        vertical-align: top;\n    }\n\n    .dataframe thead th {\n        text-align: right;\n    }\n</style>\n<table border=\"1\" class=\"dataframe\">\n  <thead>\n    <tr style=\"text-align: right;\">\n      <th></th>\n      <th>theta</th>\n      <th>intensity</th>\n    </tr>\n  </thead>\n  <tbody>\n    <tr>\n      <th>0</th>\n      <td>10.0000</td>\n      <td>0.0</td>\n    </tr>\n    <tr>\n      <th>1</th>\n      <td>12.3251</td>\n      <td>0.0</td>\n    </tr>\n    <tr>\n      <th>2</th>\n      <td>12.3252</td>\n      <td>322.0</td>\n    </tr>\n    <tr>\n      <th>3</th>\n      <td>12.3253</td>\n      <td>0.0</td>\n    </tr>\n    <tr>\n      <th>4</th>\n      <td>14.0072</td>\n      <td>0.0</td>\n    </tr>\n    <tr>\n      <th>...</th>\n      <td>...</td>\n      <td>...</td>\n    </tr>\n    <tr>\n      <th>210</th>\n      <td>59.4279</td>\n      <td>0.0</td>\n    </tr>\n    <tr>\n      <th>211</th>\n      <td>59.9771</td>\n      <td>0.0</td>\n    </tr>\n    <tr>\n      <th>212</th>\n      <td>59.9772</td>\n      <td>30.0</td>\n    </tr>\n    <tr>\n      <th>213</th>\n      <td>59.9773</td>\n      <td>0.0</td>\n    </tr>\n    <tr>\n      <th>214</th>\n      <td>60.0000</td>\n      <td>0.0</td>\n    </tr>\n  </tbody>\n</table>\n<p>215 rows × 2 columns</p>\n</div>"
     },
     "metadata": {},
     "execution_count": 87
    }
   ],
   "source": [
    "import pandas as pd\n",
    "df = pd.DataFrame(forgraph).T\n",
    "df.columns = ['theta', 'intensity']\n",
    "df"
   ]
  },
  {
   "cell_type": "code",
   "execution_count": 89,
   "metadata": {},
   "outputs": [],
   "source": [
    "df.to_csv('output.txt', encoding = 'utf_8_sig', index = False)"
   ]
  },
  {
   "cell_type": "code",
   "execution_count": null,
   "metadata": {},
   "outputs": [],
   "source": []
  }
 ]
}